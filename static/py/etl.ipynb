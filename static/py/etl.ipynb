{
 "cells": [
  {
   "cell_type": "markdown",
   "id": "62ff7bdd",
   "metadata": {},
   "source": [
    "## Import Dependencies"
   ]
  },
  {
   "cell_type": "code",
   "execution_count": 6,
   "id": "e1e062ce",
   "metadata": {},
   "outputs": [],
   "source": [
    "#Import Dependencies\n",
    "import pandas as pd\n",
    "from sqlalchemy import create_engine\n",
    "import numpy as np\n",
    "import datetime as dt\n",
    "import json\n",
    "from math import cos, asin, sqrt\n",
    "from config import username, password"
   ]
  },
  {
   "cell_type": "markdown",
   "id": "26b74e52",
   "metadata": {},
   "source": [
    "## Extract CSV File\n",
    "\n",
    "### Store CSV Into Dataframe"
   ]
  },
  {
   "cell_type": "code",
   "execution_count": null,
   "id": "f62d8b7a",
   "metadata": {},
   "outputs": [],
   "source": [
    "#Store COBRA crime data CSV as dataframe\n",
    "cobra_csv_file = \"../../data/COBRA-2022.csv\"\n",
    "cobra_complete_df = pd.read_csv(cobra_csv_file)\n",
    "cobra_complete_df.head()"
   ]
  },
  {
   "cell_type": "markdown",
   "id": "f01ea8d8",
   "metadata": {},
   "source": [
    "## Transform COBRA crime dataframe"
   ]
  },
  {
   "cell_type": "code",
   "execution_count": null,
   "id": "c32c84e2",
   "metadata": {},
   "outputs": [],
   "source": [
    "#Create a new dataframe with just the columns we want to use\n",
    "cobra_summary_df = cobra_complete_df[[\"offense_id\", \"occur_date\", \"UC2_Literal\", \"neighborhood\", \"lat\", \"long\"]]\n",
    "cobra_summary_df.head()"
   ]
  },
  {
   "cell_type": "code",
   "execution_count": null,
   "id": "c878be0d",
   "metadata": {},
   "outputs": [],
   "source": [
    "#Rename column for easier readability\n",
    "cobra_summary_df.rename(columns={'UC2_Literal':'crime_type'}, inplace = True)\n",
    "cobra_summary_df.head()"
   ]
  },
  {
   "cell_type": "code",
   "execution_count": null,
   "id": "c11176db",
   "metadata": {},
   "outputs": [],
   "source": [
    "#Convert 'occur_date' column from a string type to a date type\n",
    "cobra_summary_df[\"occur_date\"] = pd.to_datetime(cobra_summary_df[\"occur_date\"])"
   ]
  },
  {
   "cell_type": "code",
   "execution_count": null,
   "id": "2a197726",
   "metadata": {},
   "outputs": [],
   "source": [
    "#Filter out any rows with an 'occur_date' that is NOT in 2022\n",
    "cobra_summary_df = cobra_summary_df.loc[cobra_summary_df[\"occur_date\"] > \"2021-12-31\"]\n",
    "cobra_summary_df.head()"
   ]
  },
  {
   "cell_type": "code",
   "execution_count": null,
   "id": "2504c18e",
   "metadata": {
    "scrolled": true
   },
   "outputs": [],
   "source": [
    "#Get rid of any rows with a duplicate 'offense_id'\n",
    "cobra_summary_df = cobra_summary_df.drop_duplicates(subset='offense_id', keep=\"first\")\n",
    "\n",
    "# reset index \n",
    "cobra_summary_df.reset_index(drop=True)"
   ]
  },
  {
   "cell_type": "markdown",
   "id": "bf2095b9",
   "metadata": {},
   "source": [
    "## Read in MARTA rail station file"
   ]
  },
  {
   "cell_type": "code",
   "execution_count": null,
   "id": "d1b2fe06",
   "metadata": {},
   "outputs": [],
   "source": [
    "#Store MARTA rail station data CSV as dataframe\n",
    "rail_station_csv_file = \"../../data/Transit_Rail_Stations.csv\"\n",
    "rail_station_complete_df = pd.read_csv(rail_station_csv_file)\n",
    "rail_station_complete_df.head()"
   ]
  },
  {
   "cell_type": "code",
   "execution_count": null,
   "id": "5a23b3f4",
   "metadata": {},
   "outputs": [],
   "source": [
    "#Create a new dataframe with just the columns we want to use\n",
    "rail_station_summary_df = rail_station_complete_df[[\"STATION\", \"latitude\", \"longitude\"]]\n",
    "rail_station_summary_df.head()"
   ]
  },
  {
   "cell_type": "code",
   "execution_count": null,
   "id": "776aa162",
   "metadata": {},
   "outputs": [],
   "source": [
    "#Rename column for easier readability\n",
    "rail_station_summary_df.rename(columns={'STATION':'station'}, inplace = True)\n",
    "rail_station_summary_df.head()"
   ]
  },
  {
   "cell_type": "markdown",
   "id": "269a697b",
   "metadata": {},
   "source": [
    "## Find distance in lat and long of crime from rail station"
   ]
  },
  {
   "cell_type": "code",
   "execution_count": null,
   "id": "c6828cd7",
   "metadata": {},
   "outputs": [],
   "source": [
    "#Put the rail station dataframe into a list of dictionaries\n",
    "rail_station_data = rail_station_summary_df.to_dict(orient='records')\n",
    "rail_station_data"
   ]
  },
  {
   "cell_type": "code",
   "execution_count": null,
   "id": "3347e38b",
   "metadata": {},
   "outputs": [],
   "source": [
    "#Put Crime dataframe into a list of dictionaries\n",
    "cobra_summary_data = cobra_summary_df.to_dict(orient='records')"
   ]
  },
  {
   "cell_type": "code",
   "execution_count": null,
   "id": "956cdac2",
   "metadata": {},
   "outputs": [],
   "source": [
    "#Functions for finding the closest MARTA rail station to each crime\n",
    "def distance(lat1, lon1, lat2, lon2):\n",
    "    p = 0.017453292519943295\n",
    "    hav = 0.5 - cos((lat2-lat1)*p)/2 + cos(lat1*p)*cos(lat2*p) * (1-cos((lon2-lon1)*p)) / 2\n",
    "    return 12742 * asin(sqrt(hav))\n",
    "\n",
    "def closest(data, v):\n",
    "    return min(data, key=lambda p: distance(v['latitude'],v['longitude'],p['latitude'],p['longitude']))\n",
    "                                                   \n",
    "v = {'latitude': 33.716073, 'longitude': -84.353217}\n",
    "print(closest(rail_station_data, v))"
   ]
  },
  {
   "cell_type": "code",
   "execution_count": null,
   "id": "6065397a",
   "metadata": {},
   "outputs": [],
   "source": [
    "#Create empty lists to hold closest rail station data\n",
    "closest_station_name = []\n",
    "closest_station_lat = []\n",
    "closest_station_long = []\n",
    "distance_from_station = []"
   ]
  },
  {
   "cell_type": "code",
   "execution_count": null,
   "id": "ee33b20f",
   "metadata": {},
   "outputs": [],
   "source": [
    "#Loop through each crime and find the closest MARTA rail station\n",
    "for i in range(len(cobra_summary_data)):\n",
    "    crime_lat = cobra_summary_data[i]['lat']\n",
    "    crime_lon = cobra_summary_data[i]['long']\n",
    "    v = {'latitude': crime_lat, 'longitude': crime_lon}\n",
    "    closest_rail_station = closest(rail_station_data, v)\n",
    "    closest_station_name.append(closest_rail_station['STATION'])\n",
    "    closest_station_lat.append(closest_rail_station['latitude'])\n",
    "    closest_station_long.append(closest_rail_station['longitude'])\n",
    "    distance_to_station = distance(crime_lat, crime_lon, closest_rail_station['latitude'], closest_rail_station['longitude'])\n",
    "    distance_from_station.append(distance_to_station)\n"
   ]
  },
  {
   "cell_type": "code",
   "execution_count": null,
   "id": "a9ad0ab6",
   "metadata": {},
   "outputs": [],
   "source": [
    "#Create empty lists to hold distance data\n",
    "diff_in_lat = []\n",
    "diff_in_long = []"
   ]
  },
  {
   "cell_type": "code",
   "execution_count": null,
   "id": "4e774b6a",
   "metadata": {},
   "outputs": [],
   "source": [
    "#Loop through each crime and find the difference in latitude and longitude from closest MARTA rail station\n",
    "for j in range(len(cobra_summary_data)):\n",
    "    lat_difference = abs(closest_station_lat[j] - cobra_summary_data[j]['lat'])\n",
    "    diff_in_lat.append(lat_difference)\n",
    "    long_difference = abs(closest_station_long[j] - cobra_summary_data[j]['long'])\n",
    "    diff_in_long.append(long_difference)"
   ]
  },
  {
   "cell_type": "code",
   "execution_count": null,
   "id": "26021f62",
   "metadata": {},
   "outputs": [],
   "source": [
    "#Append new columns to cobra_summary_df dataframe\n",
    "cobra_summary_df['closest_station'] = closest_station_name\n",
    "cobra_summary_df['difference_in_lat'] = diff_in_lat\n",
    "cobra_summary_df['difference_in_long'] = diff_in_long\n",
    "cobra_summary_df['distance_away'] = distance_from_station\n",
    "\n",
    "cobra_summary_df.head()"
   ]
  },
  {
   "cell_type": "markdown",
   "id": "9db97e97",
   "metadata": {},
   "source": [
    "## Export tables to Postgres database"
   ]
  },
  {
   "cell_type": "code",
   "execution_count": null,
   "id": "69c6a62a",
   "metadata": {},
   "outputs": [],
   "source": [
    "#Connect to database\n",
    "protocol = 'postgresql'\n",
    "host = 'localhost'\n",
    "port = 5432\n",
    "database_name = 'secret_of_nimby'\n",
    "rds_connection_string = f'{protocol}://{username}:{password}@{host}:{port}/{database_name}'\n",
    "engine = create_engine(rds_connection_string)"
   ]
  },
  {
   "cell_type": "code",
   "execution_count": null,
   "id": "6a428c36",
   "metadata": {},
   "outputs": [],
   "source": [
    "#Check for tables\n",
    "engine.table_names()"
   ]
  },
  {
   "cell_type": "code",
   "execution_count": null,
   "id": "084d81cd",
   "metadata": {},
   "outputs": [],
   "source": [
    "#Load in the cobra_summary table\n",
    "cobra_summary_df.to_sql(name='cobra_summary', con=engine, if_exists='append', index=False)"
   ]
  },
  {
   "cell_type": "code",
   "execution_count": null,
   "id": "98452fbd",
   "metadata": {},
   "outputs": [],
   "source": [
    "#Load in the transit rail station table\n",
    "rail_station_summary_df.to_sql(name='transit_rail_station', con=engine, if_exists='append', index=False)"
   ]
  },
  {
   "cell_type": "markdown",
   "id": "aebe6bbe",
   "metadata": {},
   "source": [
    "## Read in Atlanta Neighborhood CSV"
   ]
  },
  {
   "cell_type": "code",
   "execution_count": 2,
   "id": "b6c05183",
   "metadata": {
    "scrolled": true
   },
   "outputs": [
    {
     "data": {
      "text/html": [
       "<div>\n",
       "<style scoped>\n",
       "    .dataframe tbody tr th:only-of-type {\n",
       "        vertical-align: middle;\n",
       "    }\n",
       "\n",
       "    .dataframe tbody tr th {\n",
       "        vertical-align: top;\n",
       "    }\n",
       "\n",
       "    .dataframe thead th {\n",
       "        text-align: right;\n",
       "    }\n",
       "</style>\n",
       "<table border=\"1\" class=\"dataframe\">\n",
       "  <thead>\n",
       "    <tr style=\"text-align: right;\">\n",
       "      <th></th>\n",
       "      <th>GEOID</th>\n",
       "      <th>Details</th>\n",
       "      <th>Median age (years) 2020</th>\n",
       "      <th>% Non-Hispanic White 2020</th>\n",
       "      <th>% Non-Hispanic Black 2020</th>\n",
       "      <th>% Hispanic all races 2020</th>\n",
       "      <th>Median household income 2020</th>\n",
       "      <th># Total population 2020</th>\n",
       "      <th>% Non-Hispanic other race adults 2020</th>\n",
       "      <th>% Non-Hispanic Asian or Pacific Islander 2020</th>\n",
       "    </tr>\n",
       "  </thead>\n",
       "  <tbody>\n",
       "    <tr>\n",
       "      <th>0</th>\n",
       "      <td>A01</td>\n",
       "      <td>Margaret Mitchell, Paces, Pleasant Hill</td>\n",
       "      <td>46.674712</td>\n",
       "      <td>73.7</td>\n",
       "      <td>13.7</td>\n",
       "      <td>4.6</td>\n",
       "      <td>NaN</td>\n",
       "      <td>4720</td>\n",
       "      <td>2.4</td>\n",
       "      <td>4.2</td>\n",
       "    </tr>\n",
       "    <tr>\n",
       "      <th>1</th>\n",
       "      <td>A02</td>\n",
       "      <td>Kingswood, Mt. Paran/Northside, Mt. Paran Park...</td>\n",
       "      <td>46.560749</td>\n",
       "      <td>81.9</td>\n",
       "      <td>3.8</td>\n",
       "      <td>4.2</td>\n",
       "      <td>131744.630</td>\n",
       "      <td>4489</td>\n",
       "      <td>2.6</td>\n",
       "      <td>5.8</td>\n",
       "    </tr>\n",
       "    <tr>\n",
       "      <th>2</th>\n",
       "      <td>A03</td>\n",
       "      <td>Chastain Park, Tuxedo Park</td>\n",
       "      <td>38.233601</td>\n",
       "      <td>88.3</td>\n",
       "      <td>1.3</td>\n",
       "      <td>2.9</td>\n",
       "      <td>188532.320</td>\n",
       "      <td>3578</td>\n",
       "      <td>1.9</td>\n",
       "      <td>3.6</td>\n",
       "    </tr>\n",
       "    <tr>\n",
       "      <th>3</th>\n",
       "      <td>B01</td>\n",
       "      <td>Peachtree Heights West</td>\n",
       "      <td>54.781736</td>\n",
       "      <td>67.9</td>\n",
       "      <td>18.7</td>\n",
       "      <td>5.4</td>\n",
       "      <td>83711.796</td>\n",
       "      <td>5799</td>\n",
       "      <td>3.3</td>\n",
       "      <td>4.0</td>\n",
       "    </tr>\n",
       "    <tr>\n",
       "      <th>4</th>\n",
       "      <td>B02</td>\n",
       "      <td>Buckhead Forest, South Tuxedo Park</td>\n",
       "      <td>33.576254</td>\n",
       "      <td>68.2</td>\n",
       "      <td>12.9</td>\n",
       "      <td>8.8</td>\n",
       "      <td>108796.380</td>\n",
       "      <td>4893</td>\n",
       "      <td>3.8</td>\n",
       "      <td>5.3</td>\n",
       "    </tr>\n",
       "  </tbody>\n",
       "</table>\n",
       "</div>"
      ],
      "text/plain": [
       "  GEOID                                            Details  \\\n",
       "0   A01            Margaret Mitchell, Paces, Pleasant Hill   \n",
       "1   A02  Kingswood, Mt. Paran/Northside, Mt. Paran Park...   \n",
       "2   A03                         Chastain Park, Tuxedo Park   \n",
       "3   B01                             Peachtree Heights West   \n",
       "4   B02                 Buckhead Forest, South Tuxedo Park   \n",
       "\n",
       "   Median age (years) 2020  % Non-Hispanic White 2020  \\\n",
       "0                46.674712                       73.7   \n",
       "1                46.560749                       81.9   \n",
       "2                38.233601                       88.3   \n",
       "3                54.781736                       67.9   \n",
       "4                33.576254                       68.2   \n",
       "\n",
       "   % Non-Hispanic Black 2020  % Hispanic all races 2020  \\\n",
       "0                       13.7                        4.6   \n",
       "1                        3.8                        4.2   \n",
       "2                        1.3                        2.9   \n",
       "3                       18.7                        5.4   \n",
       "4                       12.9                        8.8   \n",
       "\n",
       "   Median household income 2020  # Total population 2020  \\\n",
       "0                           NaN                     4720   \n",
       "1                    131744.630                     4489   \n",
       "2                    188532.320                     3578   \n",
       "3                     83711.796                     5799   \n",
       "4                    108796.380                     4893   \n",
       "\n",
       "   % Non-Hispanic other race adults 2020  \\\n",
       "0                                    2.4   \n",
       "1                                    2.6   \n",
       "2                                    1.9   \n",
       "3                                    3.3   \n",
       "4                                    3.8   \n",
       "\n",
       "   % Non-Hispanic Asian or Pacific Islander 2020  \n",
       "0                                            4.2  \n",
       "1                                            5.8  \n",
       "2                                            3.6  \n",
       "3                                            4.0  \n",
       "4                                            5.3  "
      ]
     },
     "execution_count": 2,
     "metadata": {},
     "output_type": "execute_result"
    }
   ],
   "source": [
    "#Store Atlanta Neighborhood data CSV as dataframe\n",
    "neighborhood_data_csv_file = \"../../data/Atlanta_Neighborhood_Data_raw.csv\"\n",
    "neighborhood_data_complete_df = pd.read_csv(neighborhood_data_csv_file)\n",
    "neighborhood_data_complete_df.head()"
   ]
  },
  {
   "cell_type": "code",
   "execution_count": 3,
   "id": "9add20f9",
   "metadata": {},
   "outputs": [
    {
     "data": {
      "text/html": [
       "<div>\n",
       "<style scoped>\n",
       "    .dataframe tbody tr th:only-of-type {\n",
       "        vertical-align: middle;\n",
       "    }\n",
       "\n",
       "    .dataframe tbody tr th {\n",
       "        vertical-align: top;\n",
       "    }\n",
       "\n",
       "    .dataframe thead th {\n",
       "        text-align: right;\n",
       "    }\n",
       "</style>\n",
       "<table border=\"1\" class=\"dataframe\">\n",
       "  <thead>\n",
       "    <tr style=\"text-align: right;\">\n",
       "      <th></th>\n",
       "      <th>Details</th>\n",
       "      <th># Total population 2020</th>\n",
       "      <th>Median age (years) 2020</th>\n",
       "      <th>Median household income 2020</th>\n",
       "      <th>% Non-Hispanic White 2020</th>\n",
       "      <th>% Non-Hispanic Black 2020</th>\n",
       "      <th>% Hispanic all races 2020</th>\n",
       "      <th>% Non-Hispanic Asian or Pacific Islander 2020</th>\n",
       "      <th>% Non-Hispanic other race adults 2020</th>\n",
       "    </tr>\n",
       "  </thead>\n",
       "  <tbody>\n",
       "    <tr>\n",
       "      <th>0</th>\n",
       "      <td>Margaret Mitchell, Paces, Pleasant Hill</td>\n",
       "      <td>4720</td>\n",
       "      <td>46.674712</td>\n",
       "      <td>NaN</td>\n",
       "      <td>73.7</td>\n",
       "      <td>13.7</td>\n",
       "      <td>4.6</td>\n",
       "      <td>4.2</td>\n",
       "      <td>2.4</td>\n",
       "    </tr>\n",
       "    <tr>\n",
       "      <th>1</th>\n",
       "      <td>Kingswood, Mt. Paran/Northside, Mt. Paran Park...</td>\n",
       "      <td>4489</td>\n",
       "      <td>46.560749</td>\n",
       "      <td>131744.630</td>\n",
       "      <td>81.9</td>\n",
       "      <td>3.8</td>\n",
       "      <td>4.2</td>\n",
       "      <td>5.8</td>\n",
       "      <td>2.6</td>\n",
       "    </tr>\n",
       "    <tr>\n",
       "      <th>2</th>\n",
       "      <td>Chastain Park, Tuxedo Park</td>\n",
       "      <td>3578</td>\n",
       "      <td>38.233601</td>\n",
       "      <td>188532.320</td>\n",
       "      <td>88.3</td>\n",
       "      <td>1.3</td>\n",
       "      <td>2.9</td>\n",
       "      <td>3.6</td>\n",
       "      <td>1.9</td>\n",
       "    </tr>\n",
       "    <tr>\n",
       "      <th>3</th>\n",
       "      <td>Peachtree Heights West</td>\n",
       "      <td>5799</td>\n",
       "      <td>54.781736</td>\n",
       "      <td>83711.796</td>\n",
       "      <td>67.9</td>\n",
       "      <td>18.7</td>\n",
       "      <td>5.4</td>\n",
       "      <td>4.0</td>\n",
       "      <td>3.3</td>\n",
       "    </tr>\n",
       "    <tr>\n",
       "      <th>4</th>\n",
       "      <td>Buckhead Forest, South Tuxedo Park</td>\n",
       "      <td>4893</td>\n",
       "      <td>33.576254</td>\n",
       "      <td>108796.380</td>\n",
       "      <td>68.2</td>\n",
       "      <td>12.9</td>\n",
       "      <td>8.8</td>\n",
       "      <td>5.3</td>\n",
       "      <td>3.8</td>\n",
       "    </tr>\n",
       "  </tbody>\n",
       "</table>\n",
       "</div>"
      ],
      "text/plain": [
       "                                             Details  # Total population 2020  \\\n",
       "0            Margaret Mitchell, Paces, Pleasant Hill                     4720   \n",
       "1  Kingswood, Mt. Paran/Northside, Mt. Paran Park...                     4489   \n",
       "2                         Chastain Park, Tuxedo Park                     3578   \n",
       "3                             Peachtree Heights West                     5799   \n",
       "4                 Buckhead Forest, South Tuxedo Park                     4893   \n",
       "\n",
       "   Median age (years) 2020  Median household income 2020  \\\n",
       "0                46.674712                           NaN   \n",
       "1                46.560749                    131744.630   \n",
       "2                38.233601                    188532.320   \n",
       "3                54.781736                     83711.796   \n",
       "4                33.576254                    108796.380   \n",
       "\n",
       "   % Non-Hispanic White 2020  % Non-Hispanic Black 2020  \\\n",
       "0                       73.7                       13.7   \n",
       "1                       81.9                        3.8   \n",
       "2                       88.3                        1.3   \n",
       "3                       67.9                       18.7   \n",
       "4                       68.2                       12.9   \n",
       "\n",
       "   % Hispanic all races 2020  % Non-Hispanic Asian or Pacific Islander 2020  \\\n",
       "0                        4.6                                            4.2   \n",
       "1                        4.2                                            5.8   \n",
       "2                        2.9                                            3.6   \n",
       "3                        5.4                                            4.0   \n",
       "4                        8.8                                            5.3   \n",
       "\n",
       "   % Non-Hispanic other race adults 2020  \n",
       "0                                    2.4  \n",
       "1                                    2.6  \n",
       "2                                    1.9  \n",
       "3                                    3.3  \n",
       "4                                    3.8  "
      ]
     },
     "execution_count": 3,
     "metadata": {},
     "output_type": "execute_result"
    }
   ],
   "source": [
    "#Only keep the columns we need an rearrange\n",
    "neighborhood_data_summary_df = neighborhood_data_complete_df[[\"Details\", \"# Total population 2020\", \"Median age (years) 2020\", \"Median household income 2020\", \"% Non-Hispanic White 2020\", \"% Non-Hispanic Black 2020\", \"% Hispanic all races 2020\", \"% Non-Hispanic Asian or Pacific Islander 2020\", \"% Non-Hispanic other race adults 2020\"]]\n",
    "neighborhood_data_summary_df.head()"
   ]
  },
  {
   "cell_type": "code",
   "execution_count": 4,
   "id": "60b5a7e4",
   "metadata": {
    "scrolled": true
   },
   "outputs": [
    {
     "name": "stderr",
     "output_type": "stream",
     "text": [
      "C:\\AnacondaPython\\envs\\PythonData\\lib\\site-packages\\pandas\\core\\frame.py:4133: SettingWithCopyWarning: \n",
      "A value is trying to be set on a copy of a slice from a DataFrame\n",
      "\n",
      "See the caveats in the documentation: https://pandas.pydata.org/pandas-docs/stable/user_guide/indexing.html#returning-a-view-versus-a-copy\n",
      "  errors=errors,\n"
     ]
    },
    {
     "data": {
      "text/html": [
       "<div>\n",
       "<style scoped>\n",
       "    .dataframe tbody tr th:only-of-type {\n",
       "        vertical-align: middle;\n",
       "    }\n",
       "\n",
       "    .dataframe tbody tr th {\n",
       "        vertical-align: top;\n",
       "    }\n",
       "\n",
       "    .dataframe thead th {\n",
       "        text-align: right;\n",
       "    }\n",
       "</style>\n",
       "<table border=\"1\" class=\"dataframe\">\n",
       "  <thead>\n",
       "    <tr style=\"text-align: right;\">\n",
       "      <th></th>\n",
       "      <th>neighborhood</th>\n",
       "      <th>total_population</th>\n",
       "      <th>median_age</th>\n",
       "      <th>median_household_income</th>\n",
       "      <th>percent_white</th>\n",
       "      <th>percent_black</th>\n",
       "      <th>percent_hispanic</th>\n",
       "      <th>percent_asian_or_pacific_islander</th>\n",
       "      <th>percent_other_races</th>\n",
       "    </tr>\n",
       "  </thead>\n",
       "  <tbody>\n",
       "    <tr>\n",
       "      <th>0</th>\n",
       "      <td>Margaret Mitchell, Paces, Pleasant Hill</td>\n",
       "      <td>4720</td>\n",
       "      <td>46.674712</td>\n",
       "      <td>NaN</td>\n",
       "      <td>73.7</td>\n",
       "      <td>13.7</td>\n",
       "      <td>4.6</td>\n",
       "      <td>4.2</td>\n",
       "      <td>2.4</td>\n",
       "    </tr>\n",
       "    <tr>\n",
       "      <th>1</th>\n",
       "      <td>Kingswood, Mt. Paran/Northside, Mt. Paran Park...</td>\n",
       "      <td>4489</td>\n",
       "      <td>46.560749</td>\n",
       "      <td>131744.630</td>\n",
       "      <td>81.9</td>\n",
       "      <td>3.8</td>\n",
       "      <td>4.2</td>\n",
       "      <td>5.8</td>\n",
       "      <td>2.6</td>\n",
       "    </tr>\n",
       "    <tr>\n",
       "      <th>2</th>\n",
       "      <td>Chastain Park, Tuxedo Park</td>\n",
       "      <td>3578</td>\n",
       "      <td>38.233601</td>\n",
       "      <td>188532.320</td>\n",
       "      <td>88.3</td>\n",
       "      <td>1.3</td>\n",
       "      <td>2.9</td>\n",
       "      <td>3.6</td>\n",
       "      <td>1.9</td>\n",
       "    </tr>\n",
       "    <tr>\n",
       "      <th>3</th>\n",
       "      <td>Peachtree Heights West</td>\n",
       "      <td>5799</td>\n",
       "      <td>54.781736</td>\n",
       "      <td>83711.796</td>\n",
       "      <td>67.9</td>\n",
       "      <td>18.7</td>\n",
       "      <td>5.4</td>\n",
       "      <td>4.0</td>\n",
       "      <td>3.3</td>\n",
       "    </tr>\n",
       "    <tr>\n",
       "      <th>4</th>\n",
       "      <td>Buckhead Forest, South Tuxedo Park</td>\n",
       "      <td>4893</td>\n",
       "      <td>33.576254</td>\n",
       "      <td>108796.380</td>\n",
       "      <td>68.2</td>\n",
       "      <td>12.9</td>\n",
       "      <td>8.8</td>\n",
       "      <td>5.3</td>\n",
       "      <td>3.8</td>\n",
       "    </tr>\n",
       "  </tbody>\n",
       "</table>\n",
       "</div>"
      ],
      "text/plain": [
       "                                        neighborhood  total_population  \\\n",
       "0            Margaret Mitchell, Paces, Pleasant Hill              4720   \n",
       "1  Kingswood, Mt. Paran/Northside, Mt. Paran Park...              4489   \n",
       "2                         Chastain Park, Tuxedo Park              3578   \n",
       "3                             Peachtree Heights West              5799   \n",
       "4                 Buckhead Forest, South Tuxedo Park              4893   \n",
       "\n",
       "   median_age  median_household_income  percent_white  percent_black  \\\n",
       "0   46.674712                      NaN           73.7           13.7   \n",
       "1   46.560749               131744.630           81.9            3.8   \n",
       "2   38.233601               188532.320           88.3            1.3   \n",
       "3   54.781736                83711.796           67.9           18.7   \n",
       "4   33.576254               108796.380           68.2           12.9   \n",
       "\n",
       "   percent_hispanic  percent_asian_or_pacific_islander  percent_other_races  \n",
       "0               4.6                                4.2                  2.4  \n",
       "1               4.2                                5.8                  2.6  \n",
       "2               2.9                                3.6                  1.9  \n",
       "3               5.4                                4.0                  3.3  \n",
       "4               8.8                                5.3                  3.8  "
      ]
     },
     "execution_count": 4,
     "metadata": {},
     "output_type": "execute_result"
    }
   ],
   "source": [
    "#Rename columns for easier readability\n",
    "neighborhood_data_summary_df.rename(columns={'Details':'neighborhood','# Total population 2020': 'total_population', 'Median age (years) 2020':'median_age', 'Median household income 2020':'median_household_income', '% Non-Hispanic White 2020':'percent_white', '% Non-Hispanic Black 2020':'percent_black', '% Hispanic all races 2020':'percent_hispanic', '% Non-Hispanic Asian or Pacific Islander 2020':'percent_asian_or_pacific_islander', '% Non-Hispanic other race adults 2020':'percent_other_races'}, inplace = True)\n",
    "neighborhood_data_summary_df.head()"
   ]
  },
  {
   "cell_type": "markdown",
   "id": "82f1727c",
   "metadata": {},
   "source": [
    "## Export neighborhood data table to postgres"
   ]
  },
  {
   "cell_type": "code",
   "execution_count": 7,
   "id": "28dab670",
   "metadata": {},
   "outputs": [],
   "source": [
    "#Connect to database\n",
    "protocol = 'postgresql'\n",
    "host = 'localhost'\n",
    "port = 5432\n",
    "database_name = 'secret_of_nimby'\n",
    "rds_connection_string = f'{protocol}://{username}:{password}@{host}:{port}/{database_name}'\n",
    "engine = create_engine(rds_connection_string)"
   ]
  },
  {
   "cell_type": "code",
   "execution_count": 8,
   "id": "737b45d7",
   "metadata": {},
   "outputs": [
    {
     "data": {
      "text/plain": [
       "['cobra_complete',\n",
       " 'cobra_summary',\n",
       " 'transit_rail_station',\n",
       " 'neighborhood_data']"
      ]
     },
     "execution_count": 8,
     "metadata": {},
     "output_type": "execute_result"
    }
   ],
   "source": [
    "#Check for tables\n",
    "engine.table_names()"
   ]
  },
  {
   "cell_type": "code",
   "execution_count": 9,
   "id": "d6dbbb60",
   "metadata": {},
   "outputs": [],
   "source": [
    "#Load in the neighborhood data table\n",
    "neighborhood_data_summary_df.to_sql(name='neighborhood_data', con=engine, if_exists='append', index=False)"
   ]
  }
 ],
 "metadata": {
  "kernelspec": {
   "display_name": "PythonData",
   "language": "python",
   "name": "pythondata"
  },
  "language_info": {
   "codemirror_mode": {
    "name": "ipython",
    "version": 3
   },
   "file_extension": ".py",
   "mimetype": "text/x-python",
   "name": "python",
   "nbconvert_exporter": "python",
   "pygments_lexer": "ipython3",
   "version": "3.7.7"
  }
 },
 "nbformat": 4,
 "nbformat_minor": 5
}
